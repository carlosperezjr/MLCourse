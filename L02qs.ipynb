{
  "nbformat": 4,
  "nbformat_minor": 0,
  "metadata": {
    "kernelspec": {
      "display_name": "Python 3",
      "language": "python",
      "name": "python3"
    },
    "language_info": {
      "codemirror_mode": {
        "name": "ipython",
        "version": 3
      },
      "file_extension": ".py",
      "mimetype": "text/x-python",
      "name": "python",
      "nbconvert_exporter": "python",
      "pygments_lexer": "ipython3",
      "version": "3.6.8"
    },
    "colab": {
      "name": "L02qs.ipynb",
      "provenance": []
    }
  },
  "cells": [
    {
      "cell_type": "markdown",
      "metadata": {
        "id": "fvNbYpwLT1F7"
      },
      "source": [
        "Make and run a goodbye(x,y) program that writes x copies of hello, followed by y copies of goodbye. "
      ]
    },
    {
      "cell_type": "code",
      "metadata": {
        "id": "KYcxppRR5KWp",
        "colab": {
          "base_uri": "https://localhost:8080/"
        },
        "outputId": "573d87ce-ef2c-4c05-95f0-9732d7dafb39"
      },
      "source": [
        "def goodbye(x,y):\n",
        "  for i in range(x):\n",
        "    print(\"hello\")\n",
        "  for i in range(y):\n",
        "    print(\"goodbye\")\n",
        "\n",
        "print(goodbye(2,2))\n"
      ],
      "execution_count": 8,
      "outputs": [
        {
          "output_type": "stream",
          "name": "stdout",
          "text": [
            "hello\n",
            "hello\n",
            "goodbye\n",
            "goodbye\n",
            "None\n"
          ]
        }
      ]
    }
  ]
}